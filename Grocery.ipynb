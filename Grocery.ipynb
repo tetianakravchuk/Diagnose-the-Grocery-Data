{
 "cells": [
  {
   "cell_type": "code",
   "execution_count": 9,
   "metadata": {},
   "outputs": [
    {
     "name": "stdout",
     "output_type": "stream",
     "text": [
      "  Grocery Item          Recipe  Number  Cake Recipe  Pancake Recipe  \\\n",
      "0         Eggs     Cake Recipe     2.0          NaN             NaN   \n",
      "1         Milk     Cake Recipe     1.0          NaN             NaN   \n",
      "2        Flour     Cake Recipe     2.0          NaN             NaN   \n",
      "3         Eggs  Pancake Recipe     3.0          NaN             NaN   \n",
      "4         Milk  Pancake Recipe     2.0          NaN             NaN   \n",
      "\n",
      "   Cookie Recipe  \n",
      "0            NaN  \n",
      "1            NaN  \n",
      "2            NaN  \n",
      "3            NaN  \n",
      "4            NaN  \n",
      "444\n",
      "0    False\n",
      "1    False\n",
      "2    False\n",
      "3    False\n",
      "4    False\n",
      "dtype: bool\n",
      "True     432\n",
      "False     12\n",
      "Name: count, dtype: int64\n",
      "0    False\n",
      "1    False\n",
      "2    False\n",
      "3    False\n",
      "4    False\n",
      "dtype: bool\n",
      "True     432\n",
      "False     12\n",
      "Name: count, dtype: int64\n"
     ]
    }
   ],
   "source": [
    "\n",
    "import pandas as pd\n",
    "import glob\n",
    "\n",
    "grocery_files = glob.glob(\"df*.csv\")\n",
    "\n",
    "df_list = []\n",
    "\n",
    "for filename in grocery_files:\n",
    "  df_list.append(pd.read_csv(filename))\n",
    "\n",
    "\n",
    "groceries = pd.concat(df_list)\n",
    "print(groceries.head())\n",
    "print(len(groceries))\n",
    "\n",
    "\n",
    "\n",
    "\n",
    "duplicates = groceries.duplicated()\n",
    "print(duplicates.head())\n",
    "print(duplicates.value_counts())\n",
    "duplicates.drop_duplicates()\n",
    "duplicates = groceries.duplicated()\n",
    "print(duplicates.head())\n",
    "print(duplicates.value_counts())\n"
   ]
  },
  {
   "cell_type": "code",
   "execution_count": 16,
   "metadata": {},
   "outputs": [
    {
     "name": "stdout",
     "output_type": "stream",
     "text": [
      "     0          full_name gender_age fractions probability       grade\n",
      "0    0     Moses Kirckman        M14       69%         89%  11th grade\n",
      "1    1    Timofei Strowan        M18       63%         76%  11th grade\n",
      "2    2       Silvain Poll        M18       69%         77%   9th grade\n",
      "3    3     Lezley Pinxton        M18       NaN         72%  11th grade\n",
      "4    4  Bernadene Saunper        F17       72%         84%  11th grade\n",
      "..  ..                ...        ...       ...         ...         ...\n",
      "95  95     Wilie Stillert        F14       72%         69%   9th grade\n",
      "96  96     Gertie Flicker        F15       NaN         86%  11th grade\n",
      "97  97       Yettie Labes        F14       81%         82%  12th grade\n",
      "98  98     Lock McGuinley        M18       NaN         84%  10th grade\n",
      "99  99       Bebe Lebbern        F15       66%         91%  12th grade\n",
      "\n",
      "[100 rows x 6 columns]\n",
      "   0          full_name gender_age fractions probability       grade  \\\n",
      "0  0     Moses Kirckman        M14       69%         89%  11th grade   \n",
      "1  1    Timofei Strowan        M18       63%         76%  11th grade   \n",
      "2  2       Silvain Poll        M18       69%         77%   9th grade   \n",
      "3  3     Lezley Pinxton        M18       NaN         72%  11th grade   \n",
      "4  4  Bernadene Saunper        F17       72%         84%  11th grade   \n",
      "\n",
      "  first name last name  \n",
      "0      Moses  Kirckman  \n",
      "1    Timofei   Strowan  \n",
      "2    Silvain      Poll  \n",
      "3     Lezley   Pinxton  \n",
      "4  Bernadene   Saunper  \n"
     ]
    }
   ],
   "source": [
    "\n",
    "import pandas as pd\n",
    "\n",
    "customers = pd.read_csv('customers.csv')\n",
    "\n",
    "print(customers)\n",
    "\n",
    "# Ensure the 'full_name' column contains string values\n",
    "customers['full_name'] = customers['full_name'].astype(str)\n",
    "\n",
    "name_split = customers['full_name'].str.split(\" \")\n",
    "customers['first name'] = name_split.str.get(0)\n",
    "customers['last name'] = name_split.str.get(1)\n",
    "\n",
    "print(customers.head())\n"
   ]
  },
  {
   "cell_type": "code",
   "execution_count": 25,
   "metadata": {},
   "outputs": [
    {
     "name": "stdout",
     "output_type": "stream",
     "text": [
      "0     69.0\n",
      "1     63.0\n",
      "2     69.0\n",
      "3      0.0\n",
      "4     72.0\n",
      "      ... \n",
      "95    72.0\n",
      "96     0.0\n",
      "97    81.0\n",
      "98     0.0\n",
      "99    66.0\n",
      "Name: fractions, Length: 100, dtype: float64\n"
     ]
    }
   ],
   "source": [
    "#print(customers.dtypes)\n",
    "#print(customers.mean)\n",
    "# Fill NaN with 0\n",
    "customers['fractions'] = customers['fractions'].fillna(0)\n",
    "customers['fractions'] = customers['fractions'].replace(r'[%]', '', regex=True)\n",
    "\n",
    "customers['fractions'] = pd.to_numeric(customers['fractions'])\n",
    "# Print the first value in 'fractions'\n",
    "print(customers['fractions'])"
   ]
  }
 ],
 "metadata": {
  "kernelspec": {
   "display_name": "Python 3",
   "language": "python",
   "name": "python3"
  },
  "language_info": {
   "codemirror_mode": {
    "name": "ipython",
    "version": 3
   },
   "file_extension": ".py",
   "mimetype": "text/x-python",
   "name": "python",
   "nbconvert_exporter": "python",
   "pygments_lexer": "ipython3",
   "version": "3.12.4"
  }
 },
 "nbformat": 4,
 "nbformat_minor": 2
}
