{
 "cells": [
  {
   "cell_type": "code",
   "execution_count": 9,
   "metadata": {},
   "outputs": [
    {
     "name": "stdout",
     "output_type": "stream",
     "text": [
      "  Grocery Item          Recipe  Number  Cake Recipe  Pancake Recipe  \\\n",
      "0         Eggs     Cake Recipe     2.0          NaN             NaN   \n",
      "1         Milk     Cake Recipe     1.0          NaN             NaN   \n",
      "2        Flour     Cake Recipe     2.0          NaN             NaN   \n",
      "3         Eggs  Pancake Recipe     3.0          NaN             NaN   \n",
      "4         Milk  Pancake Recipe     2.0          NaN             NaN   \n",
      "\n",
      "   Cookie Recipe  \n",
      "0            NaN  \n",
      "1            NaN  \n",
      "2            NaN  \n",
      "3            NaN  \n",
      "4            NaN  \n",
      "444\n",
      "0    False\n",
      "1    False\n",
      "2    False\n",
      "3    False\n",
      "4    False\n",
      "dtype: bool\n",
      "True     432\n",
      "False     12\n",
      "Name: count, dtype: int64\n",
      "0    False\n",
      "1    False\n",
      "2    False\n",
      "3    False\n",
      "4    False\n",
      "dtype: bool\n",
      "True     432\n",
      "False     12\n",
      "Name: count, dtype: int64\n"
     ]
    }
   ],
   "source": [
    "\n",
    "import pandas as pd\n",
    "import glob\n",
    "\n",
    "grocery_files = glob.glob(\"df*.csv\")\n",
    "\n",
    "df_list = []\n",
    "\n",
    "for filename in grocery_files:\n",
    "  df_list.append(pd.read_csv(filename))\n",
    "\n",
    "\n",
    "groceries = pd.concat(df_list)\n",
    "print(groceries.head())\n",
    "print(len(groceries))\n",
    "\n",
    "\n",
    "\n",
    "\n",
    "duplicates = groceries.duplicated()\n",
    "print(duplicates.head())\n",
    "print(duplicates.value_counts())\n",
    "duplicates.drop_duplicates()\n",
    "duplicates = groceries.duplicated()\n",
    "print(duplicates.head())\n",
    "print(duplicates.value_counts())\n",
    "\n"
   ]
  }
 ],
 "metadata": {
  "kernelspec": {
   "display_name": "Python 3",
   "language": "python",
   "name": "python3"
  },
  "language_info": {
   "codemirror_mode": {
    "name": "ipython",
    "version": 3
   },
   "file_extension": ".py",
   "mimetype": "text/x-python",
   "name": "python",
   "nbconvert_exporter": "python",
   "pygments_lexer": "ipython3",
   "version": "3.12.4"
  }
 },
 "nbformat": 4,
 "nbformat_minor": 2
}
